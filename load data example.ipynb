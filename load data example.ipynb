{
 "cells": [
  {
   "cell_type": "code",
   "execution_count": 4,
   "id": "edb5608f",
   "metadata": {},
   "outputs": [],
   "source": [
    "import os\n",
    "import json\n",
    "import pandas as pd"
   ]
  },
  {
   "cell_type": "code",
   "execution_count": 6,
   "id": "5597a373",
   "metadata": {},
   "outputs": [],
   "source": [
    "data_dir='data/'\n",
    "articles=os.listdir(data_dir)"
   ]
  },
  {
   "cell_type": "code",
   "execution_count": 9,
   "id": "90e8dbcd",
   "metadata": {},
   "outputs": [],
   "source": [
    "for article in articles:\n",
    "    df=pd.read_csv('data/fe677c513394449e987eb3ccce62d03c.tsv',sep='\\t',index_col=0).fillna('')\n",
    "    action_sample=json.loads(df.a.iloc[1].replace(\"\\'\", '\\\"'))\n",
    "    break"
   ]
  },
  {
   "cell_type": "code",
   "execution_count": 10,
   "id": "11138e43",
   "metadata": {},
   "outputs": [
    {
     "data": {
      "text/html": [
       "<div>\n",
       "<style scoped>\n",
       "    .dataframe tbody tr th:only-of-type {\n",
       "        vertical-align: middle;\n",
       "    }\n",
       "\n",
       "    .dataframe tbody tr th {\n",
       "        vertical-align: top;\n",
       "    }\n",
       "\n",
       "    .dataframe thead th {\n",
       "        text-align: right;\n",
       "    }\n",
       "</style>\n",
       "<table border=\"1\" class=\"dataframe\">\n",
       "  <thead>\n",
       "    <tr style=\"text-align: right;\">\n",
       "      <th></th>\n",
       "      <th>l</th>\n",
       "      <th>a</th>\n",
       "    </tr>\n",
       "  </thead>\n",
       "  <tbody>\n",
       "    <tr>\n",
       "      <th>0</th>\n",
       "      <td>Is It Selfish to Pursue Risky Sports Like Extr...</td>\n",
       "      <td>[]</td>\n",
       "    </tr>\n",
       "    <tr>\n",
       "      <th>1</th>\n",
       "      <td>there are activities that put an undue burden...</td>\n",
       "      <td>[{'index': 0, 'original': 'Here is where we ha...</td>\n",
       "    </tr>\n",
       "    <tr>\n",
       "      <th>2</th>\n",
       "      <td>The cost of their injuries fall not only on t...</td>\n",
       "      <td>[{'index': 0, 'original': 'Humans Are More Vul...</td>\n",
       "    </tr>\n",
       "    <tr>\n",
       "      <th>3</th>\n",
       "      <td>In order to keep those kinds of sports going,...</td>\n",
       "      <td>[{'index': 0, 'original': 'As long as we, as a...</td>\n",
       "    </tr>\n",
       "    <tr>\n",
       "      <th>4</th>\n",
       "      <td>Although the desire to promote or practice th...</td>\n",
       "      <td>[{'index': 0, 'original': 'People , organizati...</td>\n",
       "    </tr>\n",
       "    <tr>\n",
       "      <th>5</th>\n",
       "      <td></td>\n",
       "      <td>[{'index': 0, 'original': 'The cost falls on a...</td>\n",
       "    </tr>\n",
       "    <tr>\n",
       "      <th>6</th>\n",
       "      <td>The cost falls on all of us.Personal freedom ...</td>\n",
       "      <td>[{'index': 0, 'original': 'This is exactly wha...</td>\n",
       "    </tr>\n",
       "    <tr>\n",
       "      <th>7</th>\n",
       "      <td>In other words, when the ability to pursue a ...</td>\n",
       "      <td>[{'index': 0, 'original': 'Personal freedom ha...</td>\n",
       "    </tr>\n",
       "    <tr>\n",
       "      <th>8</th>\n",
       "      <td>Personal freedom has limits and those limits ...</td>\n",
       "      <td>[{'index': 0, 'original': 'Sometimes, we have ...</td>\n",
       "    </tr>\n",
       "    <tr>\n",
       "      <th>9</th>\n",
       "      <td>Otherwise, there is no limit to the freedom a...</td>\n",
       "      <td>[{'index': 0, 'original': 'Society must determ...</td>\n",
       "    </tr>\n",
       "    <tr>\n",
       "      <th>10</th>\n",
       "      <td>It is not a meaningful expression of freedom....</td>\n",
       "      <td>[]</td>\n",
       "    </tr>\n",
       "  </tbody>\n",
       "</table>\n",
       "</div>"
      ],
      "text/plain": [
       "                                                    l  \\\n",
       "0   Is It Selfish to Pursue Risky Sports Like Extr...   \n",
       "1    there are activities that put an undue burden...   \n",
       "2    The cost of their injuries fall not only on t...   \n",
       "3    In order to keep those kinds of sports going,...   \n",
       "4    Although the desire to promote or practice th...   \n",
       "5                                                       \n",
       "6    The cost falls on all of us.Personal freedom ...   \n",
       "7    In other words, when the ability to pursue a ...   \n",
       "8    Personal freedom has limits and those limits ...   \n",
       "9    Otherwise, there is no limit to the freedom a...   \n",
       "10   It is not a meaningful expression of freedom....   \n",
       "\n",
       "                                                    a  \n",
       "0                                                  []  \n",
       "1   [{'index': 0, 'original': 'Here is where we ha...  \n",
       "2   [{'index': 0, 'original': 'Humans Are More Vul...  \n",
       "3   [{'index': 0, 'original': 'As long as we, as a...  \n",
       "4   [{'index': 0, 'original': 'People , organizati...  \n",
       "5   [{'index': 0, 'original': 'The cost falls on a...  \n",
       "6   [{'index': 0, 'original': 'This is exactly wha...  \n",
       "7   [{'index': 0, 'original': 'Personal freedom ha...  \n",
       "8   [{'index': 0, 'original': 'Sometimes, we have ...  \n",
       "9   [{'index': 0, 'original': 'Society must determ...  \n",
       "10                                                 []  "
      ]
     },
     "execution_count": 10,
     "metadata": {},
     "output_type": "execute_result"
    }
   ],
   "source": [
    "df"
   ]
  },
  {
   "cell_type": "code",
   "execution_count": 11,
   "id": "c56c2f26",
   "metadata": {},
   "outputs": [
    {
     "data": {
      "text/plain": [
       "[{'index': 0,\n",
       "  'original': 'Here is where we have a moral problem.',\n",
       "  'trimmed': 'Here is where we have a moral problem.',\n",
       "  'probability': 3.913106066832602e-29},\n",
       " {'index': 1,\n",
       "  'original': 'The cost of their injuries fall not only on them, but on us.',\n",
       "  'trimmed': 'The cost of their injuries fall not only on them, but on us.',\n",
       "  'probability': 7.171824883424645e-28},\n",
       " {'index': 2,\n",
       "  'original': 'Does society have the right to say “no” to these high risk pursuits?',\n",
       "  'trimmed': 'Does society have the right to say “no” to these high risk pursuits?',\n",
       "  'probability': 1.9274364258453424e-24},\n",
       " {'index': 3,\n",
       "  'original': 'Even those sports that do not result in hospitalization may drain the pocket book.',\n",
       "  'trimmed': 'Even those sports that do not result in hospitalization may drain the pocket book.',\n",
       "  'probability': 2.0539634890675495e-28},\n",
       " {'index': 4,\n",
       "  'original': 'Sometimes, the whole expense of rescue may be greater than the value of their personal possessions if they lacked proper coverage.',\n",
       "  'trimmed': 'Sometimes, the whole expense of rescue may be greater than the value of their personal possessions if they lacked proper coverage.',\n",
       "  'probability': 1.0294657877868713e-34}]"
      ]
     },
     "execution_count": 11,
     "metadata": {},
     "output_type": "execute_result"
    }
   ],
   "source": [
    "action_sample"
   ]
  },
  {
   "cell_type": "code",
   "execution_count": null,
   "id": "20578fdc",
   "metadata": {},
   "outputs": [],
   "source": []
  }
 ],
 "metadata": {
  "kernelspec": {
   "display_name": "Python 3",
   "language": "python",
   "name": "python3"
  },
  "language_info": {
   "codemirror_mode": {
    "name": "ipython",
    "version": 3
   },
   "file_extension": ".py",
   "mimetype": "text/x-python",
   "name": "python",
   "nbconvert_exporter": "python",
   "pygments_lexer": "ipython3",
   "version": "3.8.8"
  }
 },
 "nbformat": 4,
 "nbformat_minor": 5
}
